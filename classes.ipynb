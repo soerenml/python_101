{
  "nbformat": 4,
  "nbformat_minor": 0,
  "metadata": {
    "colab": {
      "provenance": [],
      "authorship_tag": "ABX9TyMZj1lcGj4SekiPOK6l4S7I",
      "include_colab_link": true
    },
    "kernelspec": {
      "name": "python3",
      "display_name": "Python 3"
    },
    "language_info": {
      "name": "python"
    }
  },
  "cells": [
    {
      "cell_type": "markdown",
      "metadata": {
        "id": "view-in-github",
        "colab_type": "text"
      },
      "source": [
        "<a href=\"https://colab.research.google.com/github/soerenml/python_101/blob/main/classes.ipynb\" target=\"_parent\"><img src=\"https://colab.research.google.com/assets/colab-badge.svg\" alt=\"Open In Colab\"/></a>"
      ]
    },
    {
      "cell_type": "markdown",
      "source": [
        "# Classes in Python\n",
        "\n",
        "Classes in Python contain `methods` and `attributes`.</br>\n",
        "The idea of classes is to create `objects` / `instances` that contain `data` and `methods` that are applied to this data.\n",
        "\n",
        "### Inheritance\n",
        "Is used if another class `subclass` should inherit the `methods` and `attributes` from another class `parent class`.</br>\n",
        "To do so we use `super()`"
      ],
      "metadata": {
        "id": "xS1wsFCKNfBH"
      }
    },
    {
      "cell_type": "code",
      "source": [
        "class Animal():\n",
        "  \"\"\"\n",
        "  Basic class to define an animal.\n",
        "\n",
        "  Attributes\n",
        "  ----------\n",
        "  legs : int\n",
        "    Number of legs\n",
        "  fur : bool\n",
        "    Has fur\n",
        "  mammal : bool\n",
        "    Is mammal\n",
        "\n",
        "  Methods\n",
        "  -------\n",
        "  printi():\n",
        "    prints all of the classe's attributes\n",
        "\n",
        "  text_print(text):\n",
        "    prints some text\n",
        "  \"\"\"\n",
        "  # The variables defined below are our class variables.\n",
        "  # All instances share those variables.\n",
        "  def __init__(self, legs, fur, mammal):\n",
        "    \"\"\"\n",
        "    Constructs all the necessary attributes\n",
        "\n",
        "    Parameters\n",
        "    ----------\n",
        "    legs : int\n",
        "      Number of legs\n",
        "    fur : bool\n",
        "      Has fur\n",
        "    mammal : bool\n",
        "      Is mammal\n",
        "    legs\n",
        "    \"\"\"\n",
        "\n",
        "    self.legs = legs\n",
        "    self.fur = fur\n",
        "    self.mammal = mammal \n",
        "\n",
        "  # Method 1\n",
        "  def printi(self):\n",
        "    \"\"\"Print all of the classe's attributes\"\"\"\n",
        "    print(f\"Your inputs: {self.legs}, {self.fur}, {self.mammal}\")\n",
        "\n",
        "  # Method 2\n",
        "  def text_print(self, text):\n",
        "    \"\"\"\n",
        "    Print some text\n",
        "\n",
        "    Parameters\n",
        "    ----------\n",
        "    text : str\n",
        "      Some text to enter\n",
        "    \"\"\"\n",
        "    print(text)\n",
        "\n",
        "class Dog(Animal):\n",
        "  \"\"\"\n",
        "  Create a subclass that inherits the methods and attributes.\n",
        "  Dogs a are furry mamals, with four legs. Hence, they are a\n",
        "  subclass of animals.\n",
        "\n",
        "  Attributes\n",
        "  ----------\n",
        "  legs : int\n",
        "    Number of legs\n",
        "  fur : bool\n",
        "    Has fur\n",
        "  mammal : bool\n",
        "    Is mammal\n",
        "  breed : str\n",
        "    Type of dog breed\n",
        "\n",
        "  Methods\n",
        "  -------\n",
        "  print_dog(text):\n",
        "    Print the breed of the dog\n",
        "\n",
        "  \"\"\"\n",
        "\n",
        "  def __init__(self, legs, fur, mammal, breed):\n",
        "    \"\"\"\n",
        "    Constructs all the necessary attributes\n",
        "\n",
        "    Parameters\n",
        "    ----------\n",
        "    legs : int\n",
        "      Number of legs\n",
        "    fur : bool\n",
        "      Has fur\n",
        "    mammal : bool\n",
        "      Is mammal\n",
        "    breed : str\n",
        "      Type of dog breed\n",
        "    \"\"\"\n",
        "    super().__init__(legs, fur, mammal)\n",
        "    self.breed = breed\n",
        "\n",
        "  def print_dog(self):\n",
        "    \"\"\"\n",
        "    Print dog breed\n",
        "\n",
        "    Parameters\n",
        "    ----------\n",
        "    breed : str\n",
        "      Type of dog breed\n",
        "    \"\"\"\n",
        "\n",
        "    print(self.breed)\n"
      ],
      "metadata": {
        "id": "ZMJyj2OSNfTE"
      },
      "execution_count": 6,
      "outputs": []
    },
    {
      "cell_type": "code",
      "source": [
        "# Let's have a look at the help function of the class.\n",
        "help(Animal)"
      ],
      "metadata": {
        "colab": {
          "base_uri": "https://localhost:8080/"
        },
        "id": "nQt2BfqUZqnA",
        "outputId": "f76c894c-2ace-4907-ec89-d50d334afd95"
      },
      "execution_count": 7,
      "outputs": [
        {
          "output_type": "stream",
          "name": "stdout",
          "text": [
            "Help on class Animal in module __main__:\n",
            "\n",
            "class Animal(builtins.object)\n",
            " |  Animal(legs, fur, mammal)\n",
            " |  \n",
            " |  Basic class to define an animal.\n",
            " |  \n",
            " |  Attributes\n",
            " |  ----------\n",
            " |  legs : int\n",
            " |    Number of legs\n",
            " |  fur : bool\n",
            " |    Has fur\n",
            " |  mammal : bool\n",
            " |    Is mammal\n",
            " |  \n",
            " |  Methods\n",
            " |  -------\n",
            " |  printi():\n",
            " |    prints all of the classe's attributes\n",
            " |  \n",
            " |  text_print(text):\n",
            " |    prints some text\n",
            " |  \n",
            " |  Methods defined here:\n",
            " |  \n",
            " |  __init__(self, legs, fur, mammal)\n",
            " |      Constructs all the necessary attributes\n",
            " |      \n",
            " |      Parameters\n",
            " |      ----------\n",
            " |      legs : int\n",
            " |        Number of legs\n",
            " |      fur : bool\n",
            " |        Has fur\n",
            " |      mammal : bool\n",
            " |        Is mammal\n",
            " |      legs\n",
            " |  \n",
            " |  printi(self)\n",
            " |      Print all of the classe's attributes\n",
            " |  \n",
            " |  text_print(self, text)\n",
            " |      Print some text\n",
            " |      \n",
            " |      Parameters\n",
            " |      ----------\n",
            " |      text : str\n",
            " |        Some text to enter\n",
            " |  \n",
            " |  ----------------------------------------------------------------------\n",
            " |  Data descriptors defined here:\n",
            " |  \n",
            " |  __dict__\n",
            " |      dictionary for instance variables (if defined)\n",
            " |  \n",
            " |  __weakref__\n",
            " |      list of weak references to the object (if defined)\n",
            "\n"
          ]
        }
      ]
    },
    {
      "cell_type": "code",
      "source": [
        "# Access the docstring of a particular method.\n",
        "print(Dog.text_print.__doc__)"
      ],
      "metadata": {
        "colab": {
          "base_uri": "https://localhost:8080/"
        },
        "id": "bdChOWqsbDAP",
        "outputId": "48b41283-cae0-4ba0-a24a-d8bc89e74fa6"
      },
      "execution_count": 8,
      "outputs": [
        {
          "output_type": "stream",
          "name": "stdout",
          "text": [
            "\n",
            "    Print some text\n",
            "\n",
            "    Parameters\n",
            "    ----------\n",
            "    text : str\n",
            "      Some text to enter\n",
            "    \n"
          ]
        }
      ]
    },
    {
      "cell_type": "code",
      "source": [
        "# Create an instance of a class with its particular instance variables values).\n",
        "dog = Animal(4, True, True)\n",
        "dog.printi()\n",
        "dog.text_print(\"Does this work?\")"
      ],
      "metadata": {
        "colab": {
          "base_uri": "https://localhost:8080/"
        },
        "id": "8K2TpOR5NxlW",
        "outputId": "3e48f0b9-3643-40de-b7c5-0f703daa5894"
      },
      "execution_count": 10,
      "outputs": [
        {
          "output_type": "stream",
          "name": "stdout",
          "text": [
            "Your inputs: 4, True, True\n",
            "Does this work?\n"
          ]
        }
      ]
    },
    {
      "cell_type": "code",
      "source": [
        "# Let's create a subclass that uses `Animal` to create dogs.\n",
        "doggo = Dog(4, True, True, 'Dackel')\n",
        "doggo.print_dog()"
      ],
      "metadata": {
        "colab": {
          "base_uri": "https://localhost:8080/"
        },
        "id": "5FnoFVj1S7GV",
        "outputId": "82180594-1434-43cc-cdf7-c2c749bb79e7"
      },
      "execution_count": 11,
      "outputs": [
        {
          "output_type": "stream",
          "name": "stdout",
          "text": [
            "Dackel\n"
          ]
        }
      ]
    },
    {
      "cell_type": "code",
      "source": [],
      "metadata": {
        "id": "dzq7705Pbdqk"
      },
      "execution_count": null,
      "outputs": []
    }
  ]
}